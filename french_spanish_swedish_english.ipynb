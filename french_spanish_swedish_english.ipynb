{
 "cells": [
  {
   "cell_type": "markdown",
   "metadata": {},
   "source": [
    "## Dataset from EU Parliament proceedings\n",
    "\n",
    "#### I found a dataset containing phrases in english, swedish, french and spanish! :D \n",
    "\n",
    "It would be cool to add a bengali column but to be honest I don´t really know how bengali can help me with my spanish/french learning journey. Maybe there are some phonemes in bengali that can help but we can focus on that later.\n",
    "\n",
    "This dataset contains proceedings from the European Parliament - to me that sounds like a really high-quality dataset. Translated by experts and in multiple european languages. Let´s see what we can do with it. \n",
    "\n",
    "Link to Kaggle dataset: https://www.kaggle.com/datasets/djonafegnem/europarl-parallel-corpus-19962011/data"
   ]
  },
  {
   "cell_type": "code",
   "execution_count": 8,
   "metadata": {},
   "outputs": [
    {
     "name": "stdout",
     "output_type": "stream",
     "text": [
      "Dataset URL: https://www.kaggle.com/datasets/djonafegnem/europarl-parallel-corpus-19962011\n",
      "License(s): CC0-1.0\n",
      "Downloading english_french.csv.zip to /Users/sabrina/LinguaLoki\n",
      " 99%|███████████████████████████████████████▋| 213M/215M [00:12<00:00, 21.2MB/s]\n",
      "100%|████████████████████████████████████████| 215M/215M [00:12<00:00, 18.3MB/s]\n",
      "Dataset URL: https://www.kaggle.com/datasets/djonafegnem/europarl-parallel-corpus-19962011\n",
      "License(s): CC0-1.0\n",
      "english_swedish.csv.zip: Skipping, found more recently modified local copy (use --force to force download)\n",
      "Dataset URL: https://www.kaggle.com/datasets/djonafegnem/europarl-parallel-corpus-19962011\n",
      "License(s): CC0-1.0\n",
      "english_spanish.csv.zip: Skipping, found more recently modified local copy (use --force to force download)\n"
     ]
    }
   ],
   "source": [
    "!kaggle datasets download -d djonafegnem/europarl-parallel-corpus-19962011 --file english_french.csv\n",
    "!kaggle datasets download -d djonafegnem/europarl-parallel-corpus-19962011 --file english_swedish.csv\n",
    "!kaggle datasets download -d djonafegnem/europarl-parallel-corpus-19962011 --file english_spanish.csv"
   ]
  },
  {
   "cell_type": "code",
   "execution_count": 2,
   "metadata": {},
   "outputs": [],
   "source": [
    "import zipfile\n",
    "\n",
    "langs = [\"swedish\", \"spanish\", \"french\"]\n",
    "folder_name = \"europarl_multilingual_dataset\"\n",
    "\n",
    "for lang in langs:\n",
    "    with zipfile.ZipFile(f\"english_{lang}.csv.zip\", 'r') as zip_ref:\n",
    "        zip_ref.extractall(folder_name)"
   ]
  },
  {
   "cell_type": "code",
   "execution_count": 2,
   "metadata": {},
   "outputs": [],
   "source": [
    "import pandas as pd\n",
    "\n",
    "folder_name = \"europarl_multilingual_dataset\"\n",
    "\n",
    "df_french = pd.read_csv(f\"{folder_name}/english_french.csv\")\n",
    "df_swedish = pd.read_csv(f\"{folder_name}/english_swedish.csv\")\n",
    "df_spanish = pd.read_csv(f\"{folder_name}/english_spanish.csv\")"
   ]
  },
  {
   "cell_type": "code",
   "execution_count": 3,
   "metadata": {},
   "outputs": [
    {
     "name": "stdout",
     "output_type": "stream",
     "text": [
      "2007724\n",
      "1862235\n",
      "1965735\n"
     ]
    },
    {
     "data": {
      "text/html": [
       "<div>\n",
       "<style scoped>\n",
       "    .dataframe tbody tr th:only-of-type {\n",
       "        vertical-align: middle;\n",
       "    }\n",
       "\n",
       "    .dataframe tbody tr th {\n",
       "        vertical-align: top;\n",
       "    }\n",
       "\n",
       "    .dataframe thead th {\n",
       "        text-align: right;\n",
       "    }\n",
       "</style>\n",
       "<table border=\"1\" class=\"dataframe\">\n",
       "  <thead>\n",
       "    <tr style=\"text-align: right;\">\n",
       "      <th></th>\n",
       "      <th>English</th>\n",
       "      <th>French</th>\n",
       "    </tr>\n",
       "  </thead>\n",
       "  <tbody>\n",
       "    <tr>\n",
       "      <th>0</th>\n",
       "      <td>Resumption of the session</td>\n",
       "      <td>Reprise de la session</td>\n",
       "    </tr>\n",
       "    <tr>\n",
       "      <th>1</th>\n",
       "      <td>I declare resumed the session of the European ...</td>\n",
       "      <td>Je déclare reprise la session du Parlement eur...</td>\n",
       "    </tr>\n",
       "    <tr>\n",
       "      <th>2</th>\n",
       "      <td>Although, as you will have seen, the dreaded '...</td>\n",
       "      <td>Comme vous avez pu le constater, le grand \"bog...</td>\n",
       "    </tr>\n",
       "    <tr>\n",
       "      <th>3</th>\n",
       "      <td>You have requested a debate on this subject in...</td>\n",
       "      <td>Vous avez souhaité un débat à ce sujet dans le...</td>\n",
       "    </tr>\n",
       "    <tr>\n",
       "      <th>4</th>\n",
       "      <td>In the meantime, I should like to observe a mi...</td>\n",
       "      <td>En attendant, je souhaiterais, comme un certai...</td>\n",
       "    </tr>\n",
       "  </tbody>\n",
       "</table>\n",
       "</div>"
      ],
      "text/plain": [
       "                                             English  \\\n",
       "0                          Resumption of the session   \n",
       "1  I declare resumed the session of the European ...   \n",
       "2  Although, as you will have seen, the dreaded '...   \n",
       "3  You have requested a debate on this subject in...   \n",
       "4  In the meantime, I should like to observe a mi...   \n",
       "\n",
       "                                              French  \n",
       "0                              Reprise de la session  \n",
       "1  Je déclare reprise la session du Parlement eur...  \n",
       "2  Comme vous avez pu le constater, le grand \"bog...  \n",
       "3  Vous avez souhaité un débat à ce sujet dans le...  \n",
       "4  En attendant, je souhaiterais, comme un certai...  "
      ]
     },
     "execution_count": 3,
     "metadata": {},
     "output_type": "execute_result"
    }
   ],
   "source": [
    "print(len(df_french))\n",
    "print(len(df_swedish))\n",
    "print(len(df_spanish))\n",
    "df_french.head()"
   ]
  },
  {
   "cell_type": "code",
   "execution_count": 4,
   "metadata": {},
   "outputs": [
    {
     "data": {
      "text/html": [
       "<div>\n",
       "<style scoped>\n",
       "    .dataframe tbody tr th:only-of-type {\n",
       "        vertical-align: middle;\n",
       "    }\n",
       "\n",
       "    .dataframe tbody tr th {\n",
       "        vertical-align: top;\n",
       "    }\n",
       "\n",
       "    .dataframe thead th {\n",
       "        text-align: right;\n",
       "    }\n",
       "</style>\n",
       "<table border=\"1\" class=\"dataframe\">\n",
       "  <thead>\n",
       "    <tr style=\"text-align: right;\">\n",
       "      <th></th>\n",
       "      <th>English</th>\n",
       "      <th>Swedish</th>\n",
       "    </tr>\n",
       "  </thead>\n",
       "  <tbody>\n",
       "    <tr>\n",
       "      <th>0</th>\n",
       "      <td>Resumption of the session</td>\n",
       "      <td>Återupptagande av sessionen</td>\n",
       "    </tr>\n",
       "    <tr>\n",
       "      <th>1</th>\n",
       "      <td>I declare resumed the session of the European ...</td>\n",
       "      <td>Jag förklarar Europaparlamentets session återu...</td>\n",
       "    </tr>\n",
       "    <tr>\n",
       "      <th>2</th>\n",
       "      <td>Although, as you will have seen, the dreaded '...</td>\n",
       "      <td>Som ni kunnat konstatera ägde \"den stora år 20...</td>\n",
       "    </tr>\n",
       "    <tr>\n",
       "      <th>3</th>\n",
       "      <td>You have requested a debate on this subject in...</td>\n",
       "      <td>Ni har begärt en debatt i ämnet under sammantr...</td>\n",
       "    </tr>\n",
       "    <tr>\n",
       "      <th>4</th>\n",
       "      <td>In the meantime, I should like to observe a mi...</td>\n",
       "      <td>Till dess vill jag att vi, som ett antal kolle...</td>\n",
       "    </tr>\n",
       "  </tbody>\n",
       "</table>\n",
       "</div>"
      ],
      "text/plain": [
       "                                             English  \\\n",
       "0                          Resumption of the session   \n",
       "1  I declare resumed the session of the European ...   \n",
       "2  Although, as you will have seen, the dreaded '...   \n",
       "3  You have requested a debate on this subject in...   \n",
       "4  In the meantime, I should like to observe a mi...   \n",
       "\n",
       "                                             Swedish  \n",
       "0                        Återupptagande av sessionen  \n",
       "1  Jag förklarar Europaparlamentets session återu...  \n",
       "2  Som ni kunnat konstatera ägde \"den stora år 20...  \n",
       "3  Ni har begärt en debatt i ämnet under sammantr...  \n",
       "4  Till dess vill jag att vi, som ett antal kolle...  "
      ]
     },
     "execution_count": 4,
     "metadata": {},
     "output_type": "execute_result"
    }
   ],
   "source": [
    "df_swedish.head()"
   ]
  },
  {
   "cell_type": "code",
   "execution_count": 5,
   "metadata": {},
   "outputs": [
    {
     "data": {
      "text/html": [
       "<div>\n",
       "<style scoped>\n",
       "    .dataframe tbody tr th:only-of-type {\n",
       "        vertical-align: middle;\n",
       "    }\n",
       "\n",
       "    .dataframe tbody tr th {\n",
       "        vertical-align: top;\n",
       "    }\n",
       "\n",
       "    .dataframe thead th {\n",
       "        text-align: right;\n",
       "    }\n",
       "</style>\n",
       "<table border=\"1\" class=\"dataframe\">\n",
       "  <thead>\n",
       "    <tr style=\"text-align: right;\">\n",
       "      <th></th>\n",
       "      <th>English</th>\n",
       "      <th>Spanish</th>\n",
       "    </tr>\n",
       "  </thead>\n",
       "  <tbody>\n",
       "    <tr>\n",
       "      <th>0</th>\n",
       "      <td>Resumption of the session</td>\n",
       "      <td>Reanudación del período de sesiones</td>\n",
       "    </tr>\n",
       "    <tr>\n",
       "      <th>1</th>\n",
       "      <td>I declare resumed the session of the European ...</td>\n",
       "      <td>Declaro reanudado el período de sesiones del P...</td>\n",
       "    </tr>\n",
       "    <tr>\n",
       "      <th>2</th>\n",
       "      <td>Although, as you will have seen, the dreaded '...</td>\n",
       "      <td>Como todos han podido comprobar, el gran \"efec...</td>\n",
       "    </tr>\n",
       "    <tr>\n",
       "      <th>3</th>\n",
       "      <td>You have requested a debate on this subject in...</td>\n",
       "      <td>Sus Señorías han solicitado un debate sobre el...</td>\n",
       "    </tr>\n",
       "    <tr>\n",
       "      <th>4</th>\n",
       "      <td>In the meantime, I should like to observe a mi...</td>\n",
       "      <td>A la espera de que se produzca, de acuerdo con...</td>\n",
       "    </tr>\n",
       "  </tbody>\n",
       "</table>\n",
       "</div>"
      ],
      "text/plain": [
       "                                             English  \\\n",
       "0                          Resumption of the session   \n",
       "1  I declare resumed the session of the European ...   \n",
       "2  Although, as you will have seen, the dreaded '...   \n",
       "3  You have requested a debate on this subject in...   \n",
       "4  In the meantime, I should like to observe a mi...   \n",
       "\n",
       "                                             Spanish  \n",
       "0                Reanudación del período de sesiones  \n",
       "1  Declaro reanudado el período de sesiones del P...  \n",
       "2  Como todos han podido comprobar, el gran \"efec...  \n",
       "3  Sus Señorías han solicitado un debate sobre el...  \n",
       "4  A la espera de que se produzca, de acuerdo con...  "
      ]
     },
     "execution_count": 5,
     "metadata": {},
     "output_type": "execute_result"
    }
   ],
   "source": [
    "df_spanish.head()"
   ]
  },
  {
   "cell_type": "markdown",
   "metadata": {},
   "source": [
    "I´ve been having problems with merging so let´s investigate possible duplicates in the english columns and drop them"
   ]
  },
  {
   "cell_type": "code",
   "execution_count": 6,
   "metadata": {},
   "outputs": [
    {
     "name": "stdout",
     "output_type": "stream",
     "text": [
      "54243\n",
      "66205\n",
      "57156\n"
     ]
    }
   ],
   "source": [
    "duplicates = df_french[df_french.duplicated(subset='English')]\n",
    "print(len(duplicates))\n",
    "\n",
    "duplicates = df_swedish[df_swedish.duplicated(subset='English')]\n",
    "print(len(duplicates))\n",
    "\n",
    "duplicates = df_spanish[df_spanish.duplicated(subset='English')]\n",
    "print(len(duplicates))"
   ]
  },
  {
   "cell_type": "markdown",
   "metadata": {},
   "source": [
    "Let´s remove these and see if we can arrive at bilingual datasets of equal length"
   ]
  },
  {
   "cell_type": "code",
   "execution_count": 7,
   "metadata": {},
   "outputs": [],
   "source": [
    "df_french = df_french.drop_duplicates(subset='English')\n",
    "df_swedish = df_swedish.drop_duplicates(subset='English')\n",
    "df_spanish = df_spanish.drop_duplicates(subset='English')"
   ]
  },
  {
   "cell_type": "code",
   "execution_count": 8,
   "metadata": {},
   "outputs": [
    {
     "name": "stdout",
     "output_type": "stream",
     "text": [
      "1953481\n",
      "1796030\n",
      "1908579\n"
     ]
    }
   ],
   "source": [
    "print(len(df_french))\n",
    "print(len(df_swedish))\n",
    "print(len(df_spanish))"
   ]
  },
  {
   "cell_type": "code",
   "execution_count": 11,
   "metadata": {},
   "outputs": [
    {
     "data": {
      "text/plain": [
       "1953481"
      ]
     },
     "execution_count": 11,
     "metadata": {},
     "output_type": "execute_result"
    }
   ],
   "source": [
    "df_merged = df_french.join(df_swedish.set_index('English'), on='English')\n",
    "len(df_merged)\n",
    "df_merged = df_merged.join(df_spanish.set_index('English'), on='English')\n",
    "len(df_merged)"
   ]
  },
  {
   "cell_type": "code",
   "execution_count": 12,
   "metadata": {},
   "outputs": [
    {
     "data": {
      "text/html": [
       "<div>\n",
       "<style scoped>\n",
       "    .dataframe tbody tr th:only-of-type {\n",
       "        vertical-align: middle;\n",
       "    }\n",
       "\n",
       "    .dataframe tbody tr th {\n",
       "        vertical-align: top;\n",
       "    }\n",
       "\n",
       "    .dataframe thead th {\n",
       "        text-align: right;\n",
       "    }\n",
       "</style>\n",
       "<table border=\"1\" class=\"dataframe\">\n",
       "  <thead>\n",
       "    <tr style=\"text-align: right;\">\n",
       "      <th></th>\n",
       "      <th>English</th>\n",
       "      <th>French</th>\n",
       "      <th>Swedish</th>\n",
       "      <th>Spanish</th>\n",
       "    </tr>\n",
       "  </thead>\n",
       "  <tbody>\n",
       "    <tr>\n",
       "      <th>0</th>\n",
       "      <td>Resumption of the session</td>\n",
       "      <td>Reprise de la session</td>\n",
       "      <td>Återupptagande av sessionen</td>\n",
       "      <td>Reanudación del período de sesiones</td>\n",
       "    </tr>\n",
       "    <tr>\n",
       "      <th>1</th>\n",
       "      <td>I declare resumed the session of the European ...</td>\n",
       "      <td>Je déclare reprise la session du Parlement eur...</td>\n",
       "      <td>Jag förklarar Europaparlamentets session återu...</td>\n",
       "      <td>Declaro reanudado el período de sesiones del P...</td>\n",
       "    </tr>\n",
       "    <tr>\n",
       "      <th>2</th>\n",
       "      <td>Although, as you will have seen, the dreaded '...</td>\n",
       "      <td>Comme vous avez pu le constater, le grand \"bog...</td>\n",
       "      <td>Som ni kunnat konstatera ägde \"den stora år 20...</td>\n",
       "      <td>Como todos han podido comprobar, el gran \"efec...</td>\n",
       "    </tr>\n",
       "    <tr>\n",
       "      <th>3</th>\n",
       "      <td>You have requested a debate on this subject in...</td>\n",
       "      <td>Vous avez souhaité un débat à ce sujet dans le...</td>\n",
       "      <td>Ni har begärt en debatt i ämnet under sammantr...</td>\n",
       "      <td>Sus Señorías han solicitado un debate sobre el...</td>\n",
       "    </tr>\n",
       "    <tr>\n",
       "      <th>4</th>\n",
       "      <td>In the meantime, I should like to observe a mi...</td>\n",
       "      <td>En attendant, je souhaiterais, comme un certai...</td>\n",
       "      <td>Till dess vill jag att vi, som ett antal kolle...</td>\n",
       "      <td>A la espera de que se produzca, de acuerdo con...</td>\n",
       "    </tr>\n",
       "  </tbody>\n",
       "</table>\n",
       "</div>"
      ],
      "text/plain": [
       "                                             English  \\\n",
       "0                          Resumption of the session   \n",
       "1  I declare resumed the session of the European ...   \n",
       "2  Although, as you will have seen, the dreaded '...   \n",
       "3  You have requested a debate on this subject in...   \n",
       "4  In the meantime, I should like to observe a mi...   \n",
       "\n",
       "                                              French  \\\n",
       "0                              Reprise de la session   \n",
       "1  Je déclare reprise la session du Parlement eur...   \n",
       "2  Comme vous avez pu le constater, le grand \"bog...   \n",
       "3  Vous avez souhaité un débat à ce sujet dans le...   \n",
       "4  En attendant, je souhaiterais, comme un certai...   \n",
       "\n",
       "                                             Swedish  \\\n",
       "0                        Återupptagande av sessionen   \n",
       "1  Jag förklarar Europaparlamentets session återu...   \n",
       "2  Som ni kunnat konstatera ägde \"den stora år 20...   \n",
       "3  Ni har begärt en debatt i ämnet under sammantr...   \n",
       "4  Till dess vill jag att vi, som ett antal kolle...   \n",
       "\n",
       "                                             Spanish  \n",
       "0                Reanudación del período de sesiones  \n",
       "1  Declaro reanudado el período de sesiones del P...  \n",
       "2  Como todos han podido comprobar, el gran \"efec...  \n",
       "3  Sus Señorías han solicitado un debate sobre el...  \n",
       "4  A la espera de que se produzca, de acuerdo con...  "
      ]
     },
     "execution_count": 12,
     "metadata": {},
     "output_type": "execute_result"
    }
   ],
   "source": [
    "df_merged.head()"
   ]
  },
  {
   "cell_type": "markdown",
   "metadata": {},
   "source": [
    "Great - we now have a dataset of 4 languages that I can more or less speak and understand. Almost 2 million rows - nice!\n",
    "\n",
    "## French vs Swedish\n",
    "\n",
    "My immediate thought right now is that I want to investigate the similarities between Swedish and French. I´ve been hanging out with some French people lately - they´re also trying to improve their Spanish so we speak with each other in Spanish. Sometimes they forget a word in Spanish and try to say it in French with a Spanish accent. Sometimes it works and sometimes it´s completely off. Sometimes we realise that it´s the exact (or almost) same word in Swedish - probably taken from French I would guess?. Anywho - so I´m really interested in seeing how much of an influence modern Swedish still has from French. You can see it in words such as fåtölj and trottoar, but maybe there are e.g. ways of expressing oneself in Swedish that are actually influenced by French. \n",
    "\n",
    "## Anglicisms\n",
    "\n",
    "The current lingua franca (if I´m using the correct term) in large parts of the world is currently English, and I´ve heard Swedish people around me and also myself speak Swedish in kind of an \"English\" way even though one might not realise it - due to the high exposure to english content and media (I also did my whole master in English although it was at a Swedish university). E.g. as far as I know, there is no direct translation to \"it makes sense\" so I´ve heard many swedish people say \"det makear sense\" which is a clear anglicism. Anglicisms are quite obvious influences of english on the swedish language. Something less obvious is \"calquing\" or \"structural borrowing\" which I´ve heard more from younger people maybe more exposed to english on different social media platforms or just the internet in general where the english language gets more reach and views. Examples (taken from this reddit thread from some annoyed swedes at the high amount of anglicisms used by swedish people): https://www.reddit.com/r/sweden/comments/12ytyvb/anglicismer_i_svenskan/\n",
    "- komma iväg med något (instead of \"komma undan med något\"): a direct translation of get away with something\n",
    "- röda flaggor (instead of \"varningsklockor\"): red flags\n",
    "\n",
    "In the same thread we find a person who also mentions the german and french influences that are so old and tangled into the swedish languages that it´s just not noticeable anymore. I guess this might happen with the english influences in the future. \n",
    "\n",
    "## Structural borrowing\n",
    "\n",
    "I remember when we were taught how to communicate the time in french class - il est huit heures. A direct translation to english would \"he is eight hours\" or \"it is eight hours\" and to swedish \"han är åtta timmar\". Saying e.g. \"hon är kvart i åtta\" (she is a quarter to eight) is not uncommon to hear when talking about the time so I assume it might be something that was borrowed from French? Or maybe not - I don´t know.\n",
    "\n",
    "## Gendered nouns\n",
    "\n",
    "Another interesting thing are the genders used in e.g. Spanish and French, which don´t exist in Swedish. For me it´s not straightforward that a lamp is feminine such as it would be for spanish or french speakers. The spanish speakers in my french class still sometimes guess the gender wrong for some french words so there´s some consolation in that. \n",
    "\n",
    "The swedish gender does not exist in terms of feminine or masculine as it does in french or spanish, but I remember listening to the swedish podcast Språket (the language) - where they spoke about gender in the swedish language and it seems like we kind of have a form of gender in terms of en vs ett. \n",
    "\n",
    "a lamp = en lampa\n",
    "a car = en bil\n",
    "\n",
    "a house = ett hus\n",
    "an animal = ett djur\n",
    "\n",
    "In the podcast they spoke about old swedish having genders such as in other germanic languages like German - but over time they disappeared. "
   ]
  }
 ],
 "metadata": {
  "kernelspec": {
   "display_name": "Python 3",
   "language": "python",
   "name": "python3"
  },
  "language_info": {
   "codemirror_mode": {
    "name": "ipython",
    "version": 3
   },
   "file_extension": ".py",
   "mimetype": "text/x-python",
   "name": "python",
   "nbconvert_exporter": "python",
   "pygments_lexer": "ipython3",
   "version": "3.11.3"
  }
 },
 "nbformat": 4,
 "nbformat_minor": 2
}
